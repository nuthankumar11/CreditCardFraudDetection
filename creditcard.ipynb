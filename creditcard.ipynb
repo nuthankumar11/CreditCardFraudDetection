{
 "cells": [
  {
   "cell_type": "code",
   "execution_count": null,
   "metadata": {},
   "outputs": [],
   "source": [
    "import numpy as np\n",
    "import pandas as pd\n",
    "import matplotlib.pyplot as plt\n",
    "import seaborn as sns\n",
    "\n",
    "data = pd.read_csv('creditcard.csv')\n",
    "\n",
    "#data = data.sample(frac=0.1, random_state=1)\n",
    "\n",
    "data.hist(figsize=(20,20))\n",
    "\n",
    "fraud = data[data['Class']==1]\n",
    "valid = data[data['Class']==0]\n",
    "\n",
    "outlier_fraction = len(fraud)/float(len(valid))\n",
    "print(outlier_fraction)\n",
    "\n",
    "print('Fraud Cases: {}'.format(len(fraud)))\n",
    "print('Valid Cases: {}'.format(len(valid)))\n",
    "\n",
    "corrmat = data.corr()\n",
    "fig = plt.figure(figsize=(12,9))\n",
    "\n",
    "sns.heatmap(corrmat, vmax=.8, square=True)\n",
    "\n",
    "columns = data.columns.tolist()\n",
    "\n",
    "columns = [c for c in columns if c not in [\"Class\"]]\n",
    "\n",
    "target = \"Class\"\n",
    "\n",
    "X=data[columns]\n",
    "Y=data[target]\n",
    "\n",
    "print(X.shape)\n",
    "print(Y.shape)"
   ]
  },
  {
   "cell_type": "code",
   "execution_count": 51,
   "metadata": {},
   "outputs": [],
   "source": [
    "from sklearn.metrics import classification_report, accuracy_score\n",
    "from sklearn.ensemble import IsolationForest\n",
    "from sklearn.neighbors import LocalOutlierFactor"
   ]
  },
  {
   "cell_type": "code",
   "execution_count": null,
   "metadata": {},
   "outputs": [],
   "source": [
    "data.describe()"
   ]
  },
  {
   "cell_type": "code",
   "execution_count": 52,
   "metadata": {},
   "outputs": [],
   "source": [
    "state = 1"
   ]
  },
  {
   "cell_type": "code",
   "execution_count": 53,
   "metadata": {},
   "outputs": [],
   "source": [
    "classifiers={\n",
    "    \"Isolation Forest\": IsolationForest(max_samples=len(X),\n",
    "                                       contamination = outlier_fraction,\n",
    "                                       random_state = state),\n",
    "    \"Local Outlier Factor\": LocalOutlierFactor(\n",
    "        n_neighbors = 20,\n",
    "        contamination = outlier_fraction,novelty=True)\n",
    "}"
   ]
  },
  {
   "cell_type": "code",
   "execution_count": 15,
   "metadata": {},
   "outputs": [],
   "source": [
    "import pickle\n",
    "\n",
    "model_file = \"CCFD_Model.pkl\""
   ]
  },
  {
   "cell_type": "code",
   "execution_count": 54,
   "metadata": {},
   "outputs": [
    {
     "name": "stdout",
     "output_type": "stream",
     "text": [
      "284807\n",
      "[1 1 1 ... 1 1 1]\n"
     ]
    }
   ],
   "source": [
    "n_outliers = len(fraud)\n",
    "for i, (clf_name,clf) in enumerate(classifiers.items()):\n",
    "    clf.fit(X)\n",
    "    with open(model_file,'wb') as file:\n",
    "        pickle.dump(clf,file)\n",
    "    s = clf.decision_function(X)\n",
    "    y_pred = clf.predict(X)\n",
    "    \n",
    "print(len(y_pred))\n",
    "print(np.array(y_pred))"
   ]
  },
  {
   "cell_type": "code",
   "execution_count": 77,
   "metadata": {},
   "outputs": [],
   "source": [
    "pcacredit= data[(data['Time'] == 7740) & (data['Amount'] == 1)]"
   ]
  },
  {
   "cell_type": "code",
   "execution_count": 78,
   "metadata": {},
   "outputs": [
    {
     "data": {
      "text/html": [
       "<div>\n",
       "<style scoped>\n",
       "    .dataframe tbody tr th:only-of-type {\n",
       "        vertical-align: middle;\n",
       "    }\n",
       "\n",
       "    .dataframe tbody tr th {\n",
       "        vertical-align: top;\n",
       "    }\n",
       "\n",
       "    .dataframe thead th {\n",
       "        text-align: right;\n",
       "    }\n",
       "</style>\n",
       "<table border=\"1\" class=\"dataframe\">\n",
       "  <thead>\n",
       "    <tr style=\"text-align: right;\">\n",
       "      <th></th>\n",
       "      <th>Time</th>\n",
       "      <th>V1</th>\n",
       "      <th>V2</th>\n",
       "      <th>V3</th>\n",
       "      <th>V4</th>\n",
       "      <th>V5</th>\n",
       "      <th>V6</th>\n",
       "      <th>V7</th>\n",
       "      <th>V8</th>\n",
       "      <th>V9</th>\n",
       "      <th>...</th>\n",
       "      <th>V21</th>\n",
       "      <th>V22</th>\n",
       "      <th>V23</th>\n",
       "      <th>V24</th>\n",
       "      <th>V25</th>\n",
       "      <th>V26</th>\n",
       "      <th>V27</th>\n",
       "      <th>V28</th>\n",
       "      <th>Amount</th>\n",
       "      <th>Class</th>\n",
       "    </tr>\n",
       "  </thead>\n",
       "  <tbody>\n",
       "    <tr>\n",
       "      <th>6472</th>\n",
       "      <td>7740.0</td>\n",
       "      <td>1.023874</td>\n",
       "      <td>2.001485</td>\n",
       "      <td>-4.769752</td>\n",
       "      <td>3.819195</td>\n",
       "      <td>-1.271754</td>\n",
       "      <td>-1.734662</td>\n",
       "      <td>-3.059245</td>\n",
       "      <td>0.889805</td>\n",
       "      <td>0.415382</td>\n",
       "      <td>...</td>\n",
       "      <td>0.343283</td>\n",
       "      <td>-0.054196</td>\n",
       "      <td>0.709654</td>\n",
       "      <td>-0.372216</td>\n",
       "      <td>-2.032068</td>\n",
       "      <td>0.366778</td>\n",
       "      <td>0.395171</td>\n",
       "      <td>0.020206</td>\n",
       "      <td>1.0</td>\n",
       "      <td>1</td>\n",
       "    </tr>\n",
       "  </tbody>\n",
       "</table>\n",
       "<p>1 rows × 31 columns</p>\n",
       "</div>"
      ],
      "text/plain": [
       "        Time        V1        V2        V3        V4        V5        V6  \\\n",
       "6472  7740.0  1.023874  2.001485 -4.769752  3.819195 -1.271754 -1.734662   \n",
       "\n",
       "            V7        V8        V9  ...       V21       V22       V23  \\\n",
       "6472 -3.059245  0.889805  0.415382  ...  0.343283 -0.054196  0.709654   \n",
       "\n",
       "           V24       V25       V26       V27       V28  Amount  Class  \n",
       "6472 -0.372216 -2.032068  0.366778  0.395171  0.020206     1.0      1  \n",
       "\n",
       "[1 rows x 31 columns]"
      ]
     },
     "execution_count": 78,
     "metadata": {},
     "output_type": "execute_result"
    }
   ],
   "source": [
    "pcacredit"
   ]
  },
  {
   "cell_type": "code",
   "execution_count": 83,
   "metadata": {},
   "outputs": [
    {
     "data": {
      "text/plain": [
       "6472    1\n",
       "Name: Class, dtype: int64"
      ]
     },
     "execution_count": 83,
     "metadata": {},
     "output_type": "execute_result"
    }
   ],
   "source": [
    "len(pcacredit)\n",
    "pcacredit['Class']"
   ]
  },
  {
   "cell_type": "code",
   "execution_count": 80,
   "metadata": {},
   "outputs": [],
   "source": [
    "required = np.array(pcacredit)"
   ]
  },
  {
   "cell_type": "code",
   "execution_count": 81,
   "metadata": {},
   "outputs": [],
   "source": [
    "testData = required[0][:-1].reshape(1,-1)"
   ]
  },
  {
   "cell_type": "code",
   "execution_count": 82,
   "metadata": {},
   "outputs": [
    {
     "data": {
      "text/plain": [
       "array([[ 7.74000000e+03,  1.02387387e+00,  2.00148527e+00,\n",
       "        -4.76975183e+00,  3.81919459e+00, -1.27175423e+00,\n",
       "        -1.73466243e+00, -3.05924503e+00,  8.89804792e-01,\n",
       "         4.15382113e-01, -3.95581234e+00,  3.57205482e+00,\n",
       "        -7.18645159e+00,  1.47242341e-01, -5.24930455e+00,\n",
       "         1.67833367e+00, -2.64147311e+00, -1.31205856e+00,\n",
       "        -3.91716051e-01,  1.11826355e+00,  2.04137684e-01,\n",
       "         3.43282649e-01, -5.41956644e-02,  7.09653952e-01,\n",
       "        -3.72215867e-01, -2.03206837e+00,  3.66777602e-01,\n",
       "         3.95170669e-01,  2.02055389e-02,  1.00000000e+00]])"
      ]
     },
     "execution_count": 82,
     "metadata": {},
     "output_type": "execute_result"
    }
   ],
   "source": [
    "testData"
   ]
  },
  {
   "cell_type": "code",
   "execution_count": 1,
   "metadata": {},
   "outputs": [
    {
     "ename": "NameError",
     "evalue": "name 'data' is not defined",
     "output_type": "error",
     "traceback": [
      "\u001b[1;31m---------------------------------------------------------------------------\u001b[0m",
      "\u001b[1;31mNameError\u001b[0m                                 Traceback (most recent call last)",
      "\u001b[1;32m<ipython-input-1-a488c802aa65>\u001b[0m in \u001b[0;36m<module>\u001b[1;34m\u001b[0m\n\u001b[1;32m----> 1\u001b[1;33m \u001b[0mdata\u001b[0m\u001b[1;33m[\u001b[0m\u001b[1;34m'Time'\u001b[0m\u001b[1;33m]\u001b[0m\u001b[1;33m.\u001b[0m\u001b[0minfo\u001b[0m\u001b[1;33m(\u001b[0m\u001b[1;33m)\u001b[0m\u001b[1;33m\u001b[0m\u001b[1;33m\u001b[0m\u001b[0m\n\u001b[0m",
      "\u001b[1;31mNameError\u001b[0m: name 'data' is not defined"
     ]
    }
   ],
   "source": [
    "data['Time'].info()"
   ]
  },
  {
   "cell_type": "code",
   "execution_count": null,
   "metadata": {},
   "outputs": [],
   "source": []
  }
 ],
 "metadata": {
  "kernelspec": {
   "display_name": "Python 3",
   "language": "python",
   "name": "python3"
  },
  "language_info": {
   "codemirror_mode": {
    "name": "ipython",
    "version": 3
   },
   "file_extension": ".py",
   "mimetype": "text/x-python",
   "name": "python",
   "nbconvert_exporter": "python",
   "pygments_lexer": "ipython3",
   "version": "3.8.3"
  }
 },
 "nbformat": 4,
 "nbformat_minor": 4
}
